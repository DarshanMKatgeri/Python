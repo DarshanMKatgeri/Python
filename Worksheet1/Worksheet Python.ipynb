{
 "cells": [
  {
   "cell_type": "raw",
   "id": "87ccf31f",
   "metadata": {},
   "source": [
    "Q11 to Q15 are programming questions. Answer them in Jupyter Notebook. \n",
    "11. Write a python program to find the factorial of a number. \n",
    "12. Write a python program to find whether a number is prime or composite. \n",
    "13. Write a python program to check whether a given string is palindrome or not. \n",
    "14. Write a Python program to get the third side of right-angled triangle from two given sides. \n",
    "15. Write a python program to print the frequency of each of the characters present in a given string. "
   ]
  },
  {
   "cell_type": "markdown",
   "id": "9919cf9f",
   "metadata": {},
   "source": [
    "# 11. Write a python program to find the factorial of a number. "
   ]
  },
  {
   "cell_type": "code",
   "execution_count": 1,
   "id": "5c0b3739",
   "metadata": {},
   "outputs": [
    {
     "name": "stdout",
     "output_type": "stream",
     "text": [
      "---------- This program calculates the FACTORIAL of given integer ----------\n",
      "Enter the value of n: 5\n",
      "5 != 120\n"
     ]
    }
   ],
   "source": [
    "print (\"-\"*10,\"This program calculates the FACTORIAL of given integer\",\"-\"*10)\n",
    "#Function to calculate the factorial\n",
    "def fact(n):\n",
    "    #Factorial of 0 and 1 is 1\n",
    "    if(n==1 or n==0):\n",
    "        return 1\n",
    "    else:\n",
    "        return n*fact(n-1)\n",
    "\n",
    "n = int(input(\"Enter the value of n: \"))\n",
    "print(n,\"!=\",fact(n))"
   ]
  },
  {
   "cell_type": "markdown",
   "id": "5bf1318d",
   "metadata": {},
   "source": [
    "# 12. Write a python program to find whether a number is prime or composite. "
   ]
  },
  {
   "cell_type": "code",
   "execution_count": 10,
   "id": "4bb55bb7",
   "metadata": {},
   "outputs": [
    {
     "name": "stdout",
     "output_type": "stream",
     "text": [
      "---------- This program calculates FACTORIAL of given integer ----------\n",
      "Enter a number: 5\n",
      "5 is a prime number\n"
     ]
    }
   ],
   "source": [
    "print (\"-\"*10,\"This program calculates FACTORIAL of given integer\",\"-\"*10)\n",
    "num = int(input(\"Enter a number: \"))\n",
    "\n",
    "# If number is greater than 1\n",
    "if num > 1:\n",
    "   # Check if factor exist  \n",
    "   for i in range(2,num):\n",
    "       if (num % i) == 0:\n",
    "           print(num,\"is a composite number\")\n",
    "           break\n",
    "   else:\n",
    "       print(num,\"is a prime number\")\n",
    "       \n",
    "# Else if the input number is less than or equal to 1\n",
    "else:\n",
    "   print(num,\"is not a prime number\")"
   ]
  },
  {
   "cell_type": "markdown",
   "id": "55bc7a95",
   "metadata": {},
   "source": [
    "# 13. Write a python program to check whether a given string is palindrome or not."
   ]
  },
  {
   "cell_type": "code",
   "execution_count": 5,
   "id": "50b663f2",
   "metadata": {},
   "outputs": [
    {
     "name": "stdout",
     "output_type": "stream",
     "text": [
      "Enter a word or small sentence: \tHello\n",
      "You entered: \t\t Hello\n",
      "Reversed string is :\t olleH\n",
      "Given string is Not a Palindrome\n"
     ]
    }
   ],
   "source": [
    "print (\"-\"*10,\"This program checks whether a given string is palindrome or not \",\"-\"*10)\n",
    "strng = input(\"Enter a word or small sentence: \\t\")\n",
    "print(\"You entered: \\t\\t\",strng)\n",
    "#Using slicing of string to reverse the string\n",
    "reversed_strng = strng[::-1]\n",
    "print(\"Reversed string is :\\t\", reversed_strng)\n",
    "\n",
    "#Comparing original and reversed string\n",
    "if strng == strng[::-1]:\n",
    "    print(\"Given string is a Palindrome\")\n",
    "else:\n",
    "    print (\"Given string is Not a Palindrome\")"
   ]
  },
  {
   "cell_type": "markdown",
   "id": "3fc4f837",
   "metadata": {},
   "source": [
    "# 13. Reversing a string by using function"
   ]
  },
  {
   "cell_type": "code",
   "execution_count": 11,
   "id": "914ab4de",
   "metadata": {},
   "outputs": [
    {
     "name": "stdout",
     "output_type": "stream",
     "text": [
      "---------- This program checks whether a given string is palindrome or not  ----------\n",
      "Enter a word or small sentence: \tHello\n",
      "You entered: \t\t Hello\n",
      "Reversed string is:  olleH\n",
      "Not Palindrome\n"
     ]
    }
   ],
   "source": [
    "print (\"-\"*10,\"This program checks whether a given string is palindrome or not \",\"-\"*10)\n",
    "#Function to reverse a string (without using slicing)\n",
    "def reverse(str):\n",
    "    new_string = \"\"\n",
    "    i = len(strng_1)-1\n",
    "    while i>=0:\n",
    "        new_string += strng_1[i] \n",
    "        i -= 1\n",
    "    return (new_string)\n",
    "strng_1 = input(\"Enter a word or small sentence: \\t\")\n",
    "print(\"You entered: \\t\\t\",strng_1)\n",
    "print(\"Reversed string is: \", reverse(str))   \n",
    "\n",
    "#Comparing original and reversed strings\n",
    "if strng_1==reverse(str):\n",
    "    print(\"Palindrome\")\n",
    "else:\n",
    "    print(\"Not Palindrome\")"
   ]
  },
  {
   "cell_type": "markdown",
   "id": "9a8e86a4",
   "metadata": {},
   "source": [
    "# 14. Write a Python program to get the third side of right-angled triangle from two given sides"
   ]
  },
  {
   "cell_type": "code",
   "execution_count": 15,
   "id": "e508338e",
   "metadata": {},
   "outputs": [
    {
     "name": "stdout",
     "output_type": "stream",
     "text": [
      "---------- This program finds third side of right-angled triangle from two given sides  ----------\n",
      "Enter choice \n",
      "1-->To find Hypotenuese\n",
      "2-->To find other side\n",
      "1\n",
      "You have choosen to find Hypotenuese\n",
      "Enter side-1: 3\n",
      "Enter side-2: 4\n",
      "The length of Hypotenuese is: 5.0\n"
     ]
    }
   ],
   "source": [
    "print (\"-\"*10,\"This program finds third side of right-angled triangle from two given sides \",\"-\"*10)\n",
    "\n",
    "#Accepting user choice\n",
    "choice = int(input(\"Enter choice \\n1-->To find Hypotenuese\\n2-->To find other side\\n\"))\n",
    "if choice!=1 and choice !=2:\n",
    "    print(\"Invalid entry. Please enter either 1 or 2\")\n",
    "\n",
    "#To find hypotenuese given the two perpendicular sides\n",
    "if (choice == 1):\n",
    "    print(\"You have choosen to find Hypotenuese\")\n",
    "    side_1 = float(input(\"Enter side-1: \"))\n",
    "    side_2 = float(input(\"Enter side-2: \"))\n",
    "    #Lengths cannot be negative\n",
    "    if (side_1<0) or (side_2<0):\n",
    "        print(\"Length cannot be negative. Please enter positive values for side lengths\")\n",
    "    else:\n",
    "        hyp = (side_1**2 + side_2**2)**0.5\n",
    "        print(\"The length of Hypotenuese is:\", hyp)\n",
    "    \n",
    "#To find third side given hypotenuese and any one other side    \n",
    "if (choice == 2):\n",
    "    print(\"You have choosen to find Unknown third side(leg)\")\n",
    "    hyp = float(input(\"Enter length of hypotenuese: \"))\n",
    "    known_side = float(input(\"Enter length of known_side: \"))\n",
    "    #Length of hypotenuese cannot be less than length of other sides\n",
    "    if (known_side > hyp):\n",
    "        print(\"Hyptoneuse cannot be smaller than side length\") \n",
    "    else:\n",
    "        unknown_side = (hyp**2 - known_side**2)**0.5\n",
    "        print(\"The length of unknown side is: \", unknown_side)"
   ]
  },
  {
   "cell_type": "markdown",
   "id": "1ebe2aea",
   "metadata": {},
   "source": [
    "# 15. Write a python program to print the frequency of each of the characters present in a given string."
   ]
  },
  {
   "cell_type": "code",
   "execution_count": 16,
   "id": "d915f552",
   "metadata": {},
   "outputs": [
    {
     "name": "stdout",
     "output_type": "stream",
     "text": [
      "---------- This program finds  frequency of each of the characters present in a given string  ----------\n",
      "Enter a word or stringHello World\n",
      "Counter({'l': 3, 'o': 2, 'H': 1, 'e': 1, ' ': 1, 'W': 1, 'r': 1, 'd': 1})\n"
     ]
    }
   ],
   "source": [
    "print (\"-\"*10,\"This program finds  frequency of each of the characters present in a given string \",\"-\"*10)\n",
    "#The collections module can be used to count frequency of words\n",
    "from collections import Counter\n",
    "word_string = input(\"Enter a word or string\")\n",
    "print(Counter(word_string))"
   ]
  },
  {
   "cell_type": "markdown",
   "id": "a457594b",
   "metadata": {},
   "source": [
    "# END"
   ]
  }
 ],
 "metadata": {
  "kernelspec": {
   "display_name": "Python 3",
   "language": "python",
   "name": "python3"
  },
  "language_info": {
   "codemirror_mode": {
    "name": "ipython",
    "version": 3
   },
   "file_extension": ".py",
   "mimetype": "text/x-python",
   "name": "python",
   "nbconvert_exporter": "python",
   "pygments_lexer": "ipython3",
   "version": "3.8.8"
  }
 },
 "nbformat": 4,
 "nbformat_minor": 5
}
